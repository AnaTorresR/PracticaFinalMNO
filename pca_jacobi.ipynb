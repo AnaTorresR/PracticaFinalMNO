{
 "cells": [
  {
   "cell_type": "code",
   "execution_count": 1,
   "metadata": {},
   "outputs": [],
   "source": [
    "import math\n",
    "import numpy as np\n",
    "import pandas as pd\n",
    "from sklearn.preprocessing import StandardScaler"
   ]
  },
  {
   "cell_type": "code",
   "execution_count": 2,
   "metadata": {},
   "outputs": [],
   "source": [
    "np.set_printoptions(precision=3, suppress=True)"
   ]
  },
  {
   "cell_type": "code",
   "execution_count": 3,
   "metadata": {},
   "outputs": [],
   "source": [
    "marg_90 = pd.read_csv(\"Marginacion_1990.csv\")"
   ]
  },
  {
   "cell_type": "code",
   "execution_count": 4,
   "metadata": {},
   "outputs": [
    {
     "data": {
      "text/plain": [
       "(9, 9)"
      ]
     },
     "execution_count": 4,
     "metadata": {},
     "output_type": "execute_result"
    }
   ],
   "source": [
    "variables = marg_90[['ANALF','SPRIM','OVSDE','OVSEE','OVSAE','VHAC','OVPT','PL.5000','PO2SM']]\n",
    "#variables_np = variables.to_numpy()\n",
    "var_cov_std = StandardScaler().fit_transform(variables)\n",
    "features = var_cov_std.T\n",
    "var_cov = np.cov(features)\n",
    "var_cov.shape"
   ]
  },
  {
   "cell_type": "code",
   "execution_count": 5,
   "metadata": {},
   "outputs": [],
   "source": [
    "def sign(x):\n",
    "    \"\"\"\n",
    "    Helper function for computing sign of real number x.\n",
    "    \"\"\"\n",
    "    if x >=0:\n",
    "        return 1\n",
    "    else:\n",
    "        return -1"
   ]
  },
  {
   "cell_type": "code",
   "execution_count": 6,
   "metadata": {},
   "outputs": [],
   "source": [
    "def compute_cos_sin_Jacobi_rotation(Ak, idx1, idx2):\n",
    "    \"\"\"\n",
    "    Helper function for computing entries of Jacobi rotation.\n",
    "    Args:\n",
    "        Ak (numpy ndarray): Matrix of iteration k in Jacobi rotation method.\n",
    "        idx1 (int): index for rows in Jacobi rotation matrix.\n",
    "        idx2 (int): index for columns in Jacobi rotation matrix.\n",
    "    Returns:\n",
    "        c (float): value of cos of theta for Jacobi rotation matrix.\n",
    "        s (float): value of sin of theta for Jacobi rotation matrix.\n",
    "    \"\"\"\n",
    "    if np.abs(Ak[idx1,idx2]) >= np.finfo(float).eps:\n",
    "        tau = (Ak[idx2, idx2] - Ak[idx1, idx1])/(2*Ak[idx1, idx2])\n",
    "        t_star = sign(tau)/(np.abs(tau) + np.sqrt(1+tau**2))\n",
    "        c = 1/np.sqrt(1+t_star**2)\n",
    "        s = c*t_star\n",
    "    else: #no rotation is performed\n",
    "        c = 1\n",
    "        s = 0\n",
    "    return (c,s)"
   ]
  },
  {
   "cell_type": "code",
   "execution_count": 7,
   "metadata": {},
   "outputs": [],
   "source": [
    "def off(Ak):\n",
    "    \"\"\"\n",
    "    Frobenius norm without the main diagonal\n",
    "    Args:\n",
    "        Ak (numpy ndarray): Matrix for getting the Frobenius norm.\n",
    "    Returns:\n",
    "        s: The Frobenius norm without the sum of the main diagonal indices.\n",
    "    \"\"\"\n",
    "    n = int(np.sqrt(np.size(var_cov)))\n",
    "    s = 0\n",
    "    for i in range(n):\n",
    "        for j in range(n):\n",
    "            if j != i:\n",
    "                s1 = math.sqrt(Ak[i,j]**2)\n",
    "                s = s + s1\n",
    "            else:\n",
    "                pass\n",
    "    return s"
   ]
  },
  {
   "cell_type": "code",
   "execution_count": 8,
   "metadata": {},
   "outputs": [
    {
     "data": {
      "text/plain": [
       "0.7544138346118824"
      ]
     },
     "execution_count": 8,
     "metadata": {},
     "output_type": "execute_result"
    }
   ],
   "source": [
    "var_cov[1,2]**2"
   ]
  },
  {
   "cell_type": "code",
   "execution_count": 9,
   "metadata": {},
   "outputs": [],
   "source": [
    "def compute_Jacobi_rotation(Ak, idx1, idx2):\n",
    "    \"\"\"\n",
    "    Compute Jacobi rotation matrix.\n",
    "    Args:\n",
    "        Ak (numpy ndarray): Matrix of iteration k in Jacobi rotation method.\n",
    "        idx1 (int): index for rows in Jacobi rotation matrix.\n",
    "        idx2 (int): index for columns in Jacobi rotation matrix.\n",
    "    Returns:\n",
    "        J (numpy ndarray): Jacobi rotation matrix.\n",
    "    \"\"\"\n",
    "    c,s = compute_cos_sin_Jacobi_rotation(Ak, idx1, idx2)\n",
    "    m,n = Ak.shape\n",
    "    J = np.eye(m)\n",
    "    J[idx1, idx1] = J[idx2, idx2] = c\n",
    "    J[idx1, idx2] = s\n",
    "    J[idx2, idx1] = -s\n",
    "    return J"
   ]
  },
  {
   "cell_type": "code",
   "execution_count": 10,
   "metadata": {},
   "outputs": [],
   "source": [
    "def compute_Jacobi_egvalues(A, sweeps):\n",
    "    \"\"\"\n",
    "    Compute Jacobi rotation matrix.\n",
    "    Args:\n",
    "        Ak (numpy ndarray): Matrix of iteration k in Jacobi rotation method.\n",
    "        idx1 (int): index for rows in Jacobi rotation matrix.\n",
    "        idx2 (int): index for columns in Jacobi rotation matrix.\n",
    "    Returns:\n",
    "        J (numpy ndarray): Jacobi rotation matrix.\n",
    "    \"\"\"\n",
    "    Ak = A.copy()\n",
    "    m, n = Ak.shape \n",
    "    for n in range(sweeps):\n",
    "        for i in range(Ak.shape[0]):\n",
    "            j = m -1\n",
    "            for m in range(Ak.shape[0]-i-1):\n",
    "                if off(Ak) > (1e-8)*np.linalg.norm(Ak) and j >= 0:\n",
    "                    J = compute_Jacobi_rotation(Ak, i, j)\n",
    "                    Ak = J.T@Ak@J\n",
    "                    j -= 1\n",
    "                    \n",
    "    print(Ak)"
   ]
  },
  {
   "cell_type": "code",
   "execution_count": 11,
   "metadata": {},
   "outputs": [],
   "source": [
    "def compute_Jacobi_egvectors(A, sweeps):\n",
    "    \"\"\"\n",
    "    Compute Jacobi rotation matrix.\n",
    "    Args:\n",
    "        Ak (numpy ndarray): Matrix of iteration k in Jacobi rotation method.\n",
    "        idx1 (int): index for rows in Jacobi rotation matrix.\n",
    "        idx2 (int): index for columns in Jacobi rotation matrix.\n",
    "    Returns:\n",
    "        Q (numpy ndarray): Matrix that contain A's eigenvectors.\n",
    "    \"\"\"\n",
    "    m,n = A.shape\n",
    "    Q = np.eye(m)\n",
    "    for n in range(sweeps):\n",
    "        for i in range(A.shape[0]):\n",
    "            j = i + 1\n",
    "            for m in range(A.shape[0]-i-1):\n",
    "                if (off(A) > (1e-8)*np.linalg.norm(A)) :\n",
    "                    J = compute_Jacobi_rotation(A, i, j)\n",
    "                    Qk = Q@J\n",
    "                    Q = Qk\n",
    "                    j += 1\n",
    "                    \n",
    "    return Qk"
   ]
  },
  {
   "cell_type": "code",
   "execution_count": 12,
   "metadata": {},
   "outputs": [
    {
     "data": {
      "text/plain": [
       "array([7.3  , 0.611, 0.431, 0.325, 0.036, 0.233, 0.09 , 0.145, 0.118])"
      ]
     },
     "execution_count": 12,
     "metadata": {},
     "output_type": "execute_result"
    }
   ],
   "source": [
    "values, vectors = np.linalg.eig(var_cov)\n",
    "values"
   ]
  },
  {
   "cell_type": "code",
   "execution_count": 13,
   "metadata": {},
   "outputs": [
    {
     "data": {
      "text/plain": [
       "array([[1., 1., 1., 1.],\n",
       "       [1., 1., 1., 1.],\n",
       "       [1., 1., 1., 1.],\n",
       "       [1., 1., 1., 1.]])"
      ]
     },
     "execution_count": 13,
     "metadata": {},
     "output_type": "execute_result"
    }
   ],
   "source": [
    "A = np.ones((4,4))\n",
    "A"
   ]
  },
  {
   "cell_type": "code",
   "execution_count": 57,
   "metadata": {},
   "outputs": [],
   "source": [
    "def compute_Jacobi_eg2(A, max_sweeps, tol):\n",
    "    \"\"\"\n",
    "    Compute Jacobi rotation matrix.\n",
    "    Args:\n",
    "        Ak (numpy ndarray): Matrix of iteration k in Jacobi rotation method.\n",
    "        idx1 (int): index for rows in Jacobi rotation matrix.\n",
    "        idx2 (int): index for columns in Jacobi rotation matrix.\n",
    "    Returns:\n",
    "        Q (numpy ndarray): Matrix that contain A's eigenvectors.\n",
    "    \"\"\"\n",
    "    Ak = A.copy()\n",
    "    m,n = Ak.shape\n",
    "    Q = np.eye(m)\n",
    "    sweeps = 0\n",
    "    for n in range(sweeps):\n",
    "        for i in range(Ak.shape[0]):\n",
    "            j = m -1\n",
    "            for m in range(Ak.shape[0]-i-1):\n",
    "                while (off(A_k) > tol*np.linalg.norm(Ak) and sweeps < max_sweep):\n",
    "                    J = compute_Jacobi_rotation(Ak, i, j)\n",
    "                    Q = Q@J\n",
    "                    #Q = Qk\n",
    "                    j -= 1\n",
    "                    sweeps += 1\n",
    "                    \n",
    "    return Q"
   ]
  },
  {
   "cell_type": "code",
   "execution_count": 58,
   "metadata": {},
   "outputs": [
    {
     "ename": "SyntaxError",
     "evalue": "invalid syntax (<ipython-input-58-6358889274f3>, line 9)",
     "output_type": "error",
     "traceback": [
      "\u001b[0;36m  File \u001b[0;32m\"<ipython-input-58-6358889274f3>\"\u001b[0;36m, line \u001b[0;32m9\u001b[0m\n\u001b[0;31m    while off(A_k) > tol ||A_k||_F && sweeps < max_sweeps\u001b[0m\n\u001b[0m                          ^\u001b[0m\n\u001b[0;31mSyntaxError\u001b[0m\u001b[0;31m:\u001b[0m invalid syntax\n"
     ]
    }
   ],
   "source": [
    "def compute_Jacobi_eg3(A, sweeps, tol):\n",
    "    m,n = A.shape\n",
    "    Q = np.eye(m)\n",
    "    max_sweeps = 11\n",
    "    for n in range(sweeps):\n",
    "        for i in range(A.shape[0]):\n",
    "            j = m -1\n",
    "    \n",
    "while off(A_k) > tol ||A_k||_F && sweeps < max_sweeps"
   ]
  },
  {
   "cell_type": "code",
   "execution_count": 67,
   "metadata": {},
   "outputs": [
    {
     "data": {
      "text/plain": [
       "array([[-0.356,  0.071, -0.241, -0.266, -0.674,  0.26 , -0.343, -0.299,\n",
       "        -0.106],\n",
       "       [-0.355, -0.006, -0.124,  0.265,  0.342, -0.127, -0.145, -0.153,\n",
       "        -0.782],\n",
       "       [-0.336, -0.368, -0.102,  0.365,  0.332,  0.311, -0.222, -0.327,\n",
       "         0.495],\n",
       "       [-0.317,  0.509,  0.429,  0.099,  0.1  ,  0.237, -0.395,  0.466,\n",
       "         0.093],\n",
       "       [-0.329,  0.293,  0.391, -0.19 ,  0.067, -0.515,  0.15 , -0.53 ,\n",
       "         0.21 ],\n",
       "       [-0.33 , -0.151, -0.457, -0.377,  0.179, -0.47 , -0.212,  0.421,\n",
       "         0.207],\n",
       "       [-0.34 ,  0.3  , -0.287, -0.221,  0.208,  0.429,  0.659,  0.046,\n",
       "         0.012],\n",
       "       [-0.343, -0.077, -0.022,  0.608, -0.477, -0.268,  0.357,  0.268,\n",
       "         0.082],\n",
       "       [-0.289, -0.63 ,  0.537, -0.344, -0.046,  0.15 ,  0.163,  0.177,\n",
       "        -0.175]])"
      ]
     },
     "execution_count": 67,
     "metadata": {},
     "output_type": "execute_result"
    }
   ],
   "source": [
    "vectors"
   ]
  },
  {
   "cell_type": "raw",
   "metadata": {},
   "source": []
  },
  {
   "cell_type": "code",
   "execution_count": 23,
   "metadata": {},
   "outputs": [],
   "source": [
    "def egenvectors(A, tol):\n",
    "    Ak = A.copy()\n",
    "    m,n = Ak.shape\n",
    "    Q = np.eye(m)\n",
    "    sweeps = 0\n",
    "    while (off(Ak) > tol*np.linalg.norm(Ak) and sweeps < 10):\n",
    "        for i in range(A.shape[0]):\n",
    "            j = i + 1\n",
    "            for m in range(A.shape[0]-i-1):\n",
    "                J = compute_Jacobi_rotation(Ak, i, j)\n",
    "                Q = Q @ Ak\n",
    "                sweeps += 1\n",
    "                j += 1\n",
    "    return Q    "
   ]
  },
  {
   "cell_type": "code",
   "execution_count": 24,
   "metadata": {},
   "outputs": [
    {
     "data": {
      "text/plain": [
       "array([[1.523e+30, 1.518e+30, 1.440e+30, 1.356e+30, 1.410e+30, 1.412e+30,\n",
       "        1.454e+30, 1.470e+30, 1.239e+30],\n",
       "       [1.518e+30, 1.513e+30, 1.435e+30, 1.351e+30, 1.406e+30, 1.408e+30,\n",
       "        1.449e+30, 1.464e+30, 1.235e+30],\n",
       "       [1.440e+30, 1.435e+30, 1.362e+30, 1.282e+30, 1.334e+30, 1.336e+30,\n",
       "        1.375e+30, 1.390e+30, 1.172e+30],\n",
       "       [1.356e+30, 1.351e+30, 1.282e+30, 1.206e+30, 1.255e+30, 1.257e+30,\n",
       "        1.294e+30, 1.308e+30, 1.103e+30],\n",
       "       [1.410e+30, 1.406e+30, 1.334e+30, 1.255e+30, 1.306e+30, 1.308e+30,\n",
       "        1.346e+30, 1.361e+30, 1.147e+30],\n",
       "       [1.412e+30, 1.408e+30, 1.336e+30, 1.257e+30, 1.308e+30, 1.310e+30,\n",
       "        1.348e+30, 1.363e+30, 1.149e+30],\n",
       "       [1.454e+30, 1.449e+30, 1.375e+30, 1.294e+30, 1.346e+30, 1.348e+30,\n",
       "        1.388e+30, 1.403e+30, 1.183e+30],\n",
       "       [1.470e+30, 1.464e+30, 1.390e+30, 1.308e+30, 1.361e+30, 1.363e+30,\n",
       "        1.403e+30, 1.418e+30, 1.195e+30],\n",
       "       [1.239e+30, 1.235e+30, 1.172e+30, 1.103e+30, 1.147e+30, 1.149e+30,\n",
       "        1.183e+30, 1.195e+30, 1.008e+30]])"
      ]
     },
     "execution_count": 24,
     "metadata": {},
     "output_type": "execute_result"
    }
   ],
   "source": [
    "egenvectors(var_cov, 1e-8)"
   ]
  },
  {
   "cell_type": "code",
   "execution_count": 26,
   "metadata": {},
   "outputs": [
    {
     "data": {
      "text/plain": [
       "array([[-0.356,  0.071, -0.241, -0.266, -0.674,  0.26 , -0.343, -0.299,\n",
       "        -0.106],\n",
       "       [-0.355, -0.006, -0.124,  0.265,  0.342, -0.127, -0.145, -0.153,\n",
       "        -0.782],\n",
       "       [-0.336, -0.368, -0.102,  0.365,  0.332,  0.311, -0.222, -0.327,\n",
       "         0.495],\n",
       "       [-0.317,  0.509,  0.429,  0.099,  0.1  ,  0.237, -0.395,  0.466,\n",
       "         0.093],\n",
       "       [-0.329,  0.293,  0.391, -0.19 ,  0.067, -0.515,  0.15 , -0.53 ,\n",
       "         0.21 ],\n",
       "       [-0.33 , -0.151, -0.457, -0.377,  0.179, -0.47 , -0.212,  0.421,\n",
       "         0.207],\n",
       "       [-0.34 ,  0.3  , -0.287, -0.221,  0.208,  0.429,  0.659,  0.046,\n",
       "         0.012],\n",
       "       [-0.343, -0.077, -0.022,  0.608, -0.477, -0.268,  0.357,  0.268,\n",
       "         0.082],\n",
       "       [-0.289, -0.63 ,  0.537, -0.344, -0.046,  0.15 ,  0.163,  0.177,\n",
       "        -0.175]])"
      ]
     },
     "execution_count": 26,
     "metadata": {},
     "output_type": "execute_result"
    }
   ],
   "source": [
    "val, vec = np.linalg.eig(var_cov)\n",
    "vec"
   ]
  },
  {
   "cell_type": "code",
   "execution_count": 17,
   "metadata": {},
   "outputs": [
    {
     "data": {
      "text/plain": [
       "56.204774899483766"
      ]
     },
     "execution_count": 17,
     "metadata": {},
     "output_type": "execute_result"
    }
   ],
   "source": [
    "#compute_Jacobi_egvectors4(var_cov,4,10e-8)\n",
    "off(var_cov)"
   ]
  },
  {
   "cell_type": "code",
   "execution_count": 12,
   "metadata": {},
   "outputs": [
    {
     "name": "stdout",
     "output_type": "stream",
     "text": [
      "0 1\n",
      "0 2\n",
      "0 3\n",
      "1 2\n",
      "1 3\n",
      "2 3\n",
      "0 1\n",
      "0 2\n",
      "0 3\n",
      "1 2\n",
      "1 3\n",
      "2 3\n"
     ]
    }
   ],
   "source": [
    "max_sweeps = 3\n",
    "for n in range(2):\n",
    "        for i in range(A.shape[0]):\n",
    "            j = i + 1\n",
    "            for m in range(A.shape[0]-i-1):\n",
    "                while off(A_k) > tol ||A_k||_F && sweeps < max_sweep:\n",
    "                    #J = compute_Jacobi_rotation(A, i, j)\n",
    "                    #Q = Q@J\n",
    "                    print(i,j)\n",
    "                    j += 1"
   ]
  },
  {
   "cell_type": "code",
   "execution_count": 15,
   "metadata": {},
   "outputs": [
    {
     "name": "stdout",
     "output_type": "stream",
     "text": [
      "0 0\n",
      "1 0\n",
      "2 0\n",
      "3 0\n",
      "0 1\n",
      "1 1\n",
      "2 1\n",
      "0 2\n",
      "1 2\n",
      "0 3\n"
     ]
    }
   ],
   "source": [
    "o,n = A.shape\n",
    "for i in range(A.shape[0]):\n",
    "            j = o -1\n",
    "            for m in range(A.shape[0]-i):\n",
    "                if off(A) > (1e-8)*np.linalg.norm(A) and j >= 0:\n",
    "                    print(m,i)"
   ]
  },
  {
   "cell_type": "code",
   "execution_count": 45,
   "metadata": {},
   "outputs": [],
   "source": [
    "def compute_Jacobi_egvectors4(A, max_sweeps):\n",
    "    \"\"\"\n",
    "    Compute Jacobi rotation matrix.\n",
    "    Args:\n",
    "        Ak (numpy ndarray): Matrix of iteration k in Jacobi rotation method.\n",
    "        max_sweeps (int):  the max number of times the process is carried out.\n",
    "    Returns:\n",
    "        Q (numpy ndarray): Matrix that contain A's eigenvectors.\n",
    "    \"\"\"\n",
    "    Ak = A.copy\n",
    "    m,n = A.shape\n",
    "    Q = np.eye(m)\n",
    "    sweeps = 0\n",
    "    for n in range(max_sweeps):\n",
    "        for i in range(n):\n",
    "            j = m -1\n",
    "            for m in range(n-i-1):\n",
    "                if off(Ak) > (1e-8)*np.linalg.norm(Ak) and sweeps < max_sweep:\n",
    "                    J = compute_Jacobi_rotation(Ak, i, j)\n",
    "                    Q = Q@J\n",
    "                    #Q = Qk\n",
    "                    j -= 1\n",
    "                    sweeps += 1\n",
    "    return Q"
   ]
  },
  {
   "cell_type": "code",
   "execution_count": 21,
   "metadata": {},
   "outputs": [
    {
     "data": {
      "text/plain": [
       "numpy.ndarray"
      ]
     },
     "execution_count": 21,
     "metadata": {},
     "output_type": "execute_result"
    }
   ],
   "source": [
    "#while (off(Ak) > 10e-8**np.linalg.norm(Ak) and ) \n",
    "type(var_cov)"
   ]
  },
  {
   "cell_type": "code",
   "execution_count": 18,
   "metadata": {},
   "outputs": [],
   "source": [
    "def compute_Jacobi_egvectors3(A, tol):\n",
    "    \"\"\"\n",
    "    Compute Jacobi rotation matrix.\n",
    "    Args:\n",
    "        Ak (numpy ndarray): Matrix of iteration k in Jacobi rotation method.\n",
    "        idx1 (int): index for rows in Jacobi rotation matrix.\n",
    "        idx2 (int): index for columns in Jacobi rotation matrix.\n",
    "    Returns:\n",
    "        Q (numpy ndarray): Matrix that contain A's eigenvectors.\n",
    "    \"\"\"\n",
    "    Ak = A.copy\n",
    "    m,n = Ak.shape\n",
    "    Q = np.eye(m)\n",
    "    sweeps = 0\n",
    "    while off(Ak) > tol*np.linalg.norm(Ak) and sweeps < 11:\n",
    "        sweeps += 1\n",
    "        for i in range(n):\n",
    "            j = i + 1\n",
    "            for m in range(A.shape[0]-i-1):\n",
    "                J = compute_Jacobi_rotation(Ak, i, j)\n",
    "                Q = Q@J\n",
    "                j += 1\n",
    "    return Q"
   ]
  }
 ],
 "metadata": {
  "kernelspec": {
   "display_name": "optimizacion",
   "language": "python",
   "name": "optimizacion"
  },
  "language_info": {
   "codemirror_mode": {
    "name": "ipython",
    "version": 3
   },
   "file_extension": ".py",
   "mimetype": "text/x-python",
   "name": "python",
   "nbconvert_exporter": "python",
   "pygments_lexer": "ipython3",
   "version": "3.8.0"
  }
 },
 "nbformat": 4,
 "nbformat_minor": 4
}
