{
 "cells": [
  {
   "cell_type": "code",
   "execution_count": 7,
   "metadata": {},
   "outputs": [],
   "source": [
    "import math\n",
    "import numpy as np\n",
    "import pandas as pd\n",
    "from sklearn.preprocessing import StandardScaler"
   ]
  },
  {
   "cell_type": "code",
   "execution_count": 12,
   "metadata": {},
   "outputs": [],
   "source": [
    "np.set_printoptions(precision=3, suppress=True)"
   ]
  },
  {
   "cell_type": "code",
   "execution_count": 13,
   "metadata": {},
   "outputs": [],
   "source": [
    "marg_90 = pd.read_csv(\"Marginacion_1990.csv\")"
   ]
  },
  {
   "cell_type": "code",
   "execution_count": 14,
   "metadata": {},
   "outputs": [
    {
     "data": {
      "text/plain": [
       "(9, 9)"
      ]
     },
     "execution_count": 14,
     "metadata": {},
     "output_type": "execute_result"
    }
   ],
   "source": [
    "variables = marg_90[['ANALF','SPRIM','OVSDE','OVSEE','OVSAE','VHAC','OVPT','PL.5000','PO2SM']]\n",
    "#variables_np = variables.to_numpy()\n",
    "var_cov_std = StandardScaler().fit_transform(variables)\n",
    "var_cov = np.cov(var_cov_std.T)\n",
    "var_cov.shape"
   ]
  },
  {
   "cell_type": "code",
   "execution_count": 16,
   "metadata": {},
   "outputs": [],
   "source": [
    "def sign(x):\n",
    "    \"\"\"\n",
    "    Helper function for computing sign of real number x.\n",
    "    \"\"\"\n",
    "    if x >=0:\n",
    "        return 1\n",
    "    else:\n",
    "        return -1"
   ]
  },
  {
   "cell_type": "code",
   "execution_count": 15,
   "metadata": {},
   "outputs": [],
   "source": [
    "def compute_cos_sin_Jacobi_rotation(Ak, idx1, idx2):\n",
    "    \"\"\"\n",
    "    Helper function for computing entries of Jacobi rotation.\n",
    "    Args:\n",
    "        Ak (numpy ndarray): Matrix of iteration k in Jacobi rotation method.\n",
    "        idx1 (int): index for rows in Jacobi rotation matrix.\n",
    "        idx2 (int): index for columns in Jacobi rotation matrix.\n",
    "    Returns:\n",
    "        c (float): value of cos of theta for Jacobi rotation matrix.\n",
    "        s (float): value of sin of theta for Jacobi rotation matrix.\n",
    "    \"\"\"\n",
    "    if np.abs(Ak[idx1,idx2]) >= np.finfo(float).eps:\n",
    "        tau = (Ak[idx2, idx2] - Ak[idx1, idx1])/(2*Ak[idx1, idx2])\n",
    "        t_star = sign(tau)/(np.abs(tau) + np.sqrt(1+tau**2))\n",
    "        c = 1/np.sqrt(1+t_star**2)\n",
    "        s = c*t_star\n",
    "    else: #no rotation is performed\n",
    "        c = 1\n",
    "        s = 0\n",
    "    return (c,s)"
   ]
  },
  {
   "cell_type": "code",
   "execution_count": 17,
   "metadata": {},
   "outputs": [],
   "source": [
    "def off(A):\n",
    "    \"\"\"\n",
    "    Frobenius norm without the main diagonal\n",
    "    Args:\n",
    "        Ak (numpy ndarray): Matrix for getting the Frobenius norm.\n",
    "    Returns:\n",
    "        s: The Frobenius norm without the sum of the main diagonal indices.\n",
    "    \"\"\"\n",
    "    s = 0\n",
    "    for i in range(A.shape[0]):\n",
    "        for j in range(A.shape[1]):\n",
    "            if j != i:\n",
    "                s1 = math.sqrt(A[i,j]**2)\n",
    "                s = s + s1\n",
    "    return s"
   ]
  },
  {
   "cell_type": "code",
   "execution_count": 18,
   "metadata": {},
   "outputs": [],
   "source": [
    "def compute_Jacobi_rotation(Ak, idx1, idx2):\n",
    "    \"\"\"\n",
    "    Compute Jacobi rotation matrix.\n",
    "    Args:\n",
    "        Ak (numpy ndarray): Matrix of iteration k in Jacobi rotation method.\n",
    "        idx1 (int): index for rows in Jacobi rotation matrix.\n",
    "        idx2 (int): index for columns in Jacobi rotation matrix.\n",
    "    Returns:\n",
    "        J (numpy ndarray): Jacobi rotation matrix.\n",
    "    \"\"\"\n",
    "    c,s = compute_cos_sin_Jacobi_rotation(Ak, idx1, idx2)\n",
    "    m,n = Ak.shape\n",
    "    J = np.eye(m)\n",
    "    J[idx1, idx1] = J[idx2, idx2] = c\n",
    "    J[idx1, idx2] = s\n",
    "    J[idx2, idx1] = -s\n",
    "    return J"
   ]
  },
  {
   "cell_type": "code",
   "execution_count": 23,
   "metadata": {},
   "outputs": [],
   "source": [
    "def compute_Jacobi_egvalues(A, sweeps):\n",
    "    \"\"\"\n",
    "    Compute Jacobi rotation matrix.\n",
    "    Args:\n",
    "        Ak (numpy ndarray): Matrix of iteration k in Jacobi rotation method.\n",
    "        idx1 (int): index for rows in Jacobi rotation matrix.\n",
    "        idx2 (int): index for columns in Jacobi rotation matrix.\n",
    "    Returns:\n",
    "        J (numpy ndarray): Jacobi rotation matrix.\n",
    "    \"\"\"\n",
    "    Ak = A.copy()\n",
    "    for n in range(sweeps):\n",
    "        for i in range(Ak.shape[0]):\n",
    "            j = i + 1\n",
    "            for m in range(Ak.shape[0]-i-1):\n",
    "                if off(Ak) > (1e-8)*np.linalg.norm(Ak):\n",
    "                    J = compute_Jacobi_rotation(Ak, i, j)\n",
    "                    Ak = J.T@Ak@J\n",
    "                    j += 1\n",
    "                    \n",
    "    print(Ak)"
   ]
  },
  {
   "cell_type": "code",
   "execution_count": 35,
   "metadata": {},
   "outputs": [],
   "source": [
    "def compute_Jacobi_egvectors(A, sweeps):\n",
    "    \"\"\"\n",
    "    Compute Jacobi rotation matrix.\n",
    "    Args:\n",
    "        Ak (numpy ndarray): Matrix of iteration k in Jacobi rotation method.\n",
    "        idx1 (int): index for rows in Jacobi rotation matrix.\n",
    "        idx2 (int): index for columns in Jacobi rotation matrix.\n",
    "    Returns:\n",
    "        J (numpy ndarray): Jacobi rotation matrix.\n",
    "    \"\"\"\n",
    "    m,n = A.shape\n",
    "    Q = np.eye(m)\n",
    "    for n in range(sweeps):\n",
    "        for i in range(A.shape[0]):\n",
    "            j = i + 1\n",
    "            for m in range(A.shape[0]-i-1):\n",
    "                if off(A) > (1e-8)*np.linalg.norm(A):\n",
    "                    J = compute_Jacobi_rotation(A, i, j)\n",
    "                    Qk = Q@J\n",
    "                    Q = Qk\n",
    "                    j += 1\n",
    "                    \n",
    "    return Qk"
   ]
  },
  {
   "cell_type": "code",
   "execution_count": 21,
   "metadata": {},
   "outputs": [],
   "source": [
    "values, vectors = np.linalg.eig(var_cov)"
   ]
  },
  {
   "cell_type": "code",
   "execution_count": 38,
   "metadata": {},
   "outputs": [
    {
     "data": {
      "text/plain": [
       "array([[ 0.133, -0.333,  0.298,  0.387, -0.39 , -0.093,  0.163,  0.635,\n",
       "        -0.205],\n",
       "       [ 0.095,  0.813,  0.357, -0.064,  0.009, -0.099, -0.262,  0.264,\n",
       "        -0.224],\n",
       "       [ 0.079, -0.279,  0.479, -0.715,  0.128, -0.175,  0.004,  0.197,\n",
       "         0.299],\n",
       "       [-0.21 , -0.167, -0.068,  0.321,  0.665, -0.271, -0.434,  0.315,\n",
       "         0.133],\n",
       "       [ 0.266, -0.209,  0.341,  0.031,  0.438,  0.551, -0.016, -0.152,\n",
       "        -0.5  ],\n",
       "       [ 0.13 ,  0.143, -0.151,  0.026, -0.004,  0.692, -0.058,  0.394,\n",
       "         0.549],\n",
       "       [-0.075,  0.238,  0.209,  0.227,  0.386, -0.101,  0.797, -0.006,\n",
       "         0.221],\n",
       "       [ 0.684,  0.035, -0.527, -0.202,  0.208, -0.229,  0.17 ,  0.24 ,\n",
       "        -0.171],\n",
       "       [ 0.601, -0.024,  0.299,  0.371, -0.081, -0.181, -0.221, -0.39 ,\n",
       "         0.413]])"
      ]
     },
     "execution_count": 38,
     "metadata": {},
     "output_type": "execute_result"
    }
   ],
   "source": [
    "compute_Jacobi_egvectors(var_cov,6)"
   ]
  },
  {
   "cell_type": "code",
   "execution_count": 34,
   "metadata": {},
   "outputs": [
    {
     "data": {
      "text/plain": [
       "array([[-0.356,  0.071, -0.241, -0.266, -0.674,  0.26 , -0.343, -0.299,\n",
       "        -0.106],\n",
       "       [-0.355, -0.006, -0.124,  0.265,  0.342, -0.127, -0.145, -0.153,\n",
       "        -0.782],\n",
       "       [-0.336, -0.368, -0.102,  0.365,  0.332,  0.311, -0.222, -0.327,\n",
       "         0.495],\n",
       "       [-0.317,  0.509,  0.429,  0.099,  0.1  ,  0.237, -0.395,  0.466,\n",
       "         0.093],\n",
       "       [-0.329,  0.293,  0.391, -0.19 ,  0.067, -0.515,  0.15 , -0.53 ,\n",
       "         0.21 ],\n",
       "       [-0.33 , -0.151, -0.457, -0.377,  0.179, -0.47 , -0.212,  0.421,\n",
       "         0.207],\n",
       "       [-0.34 ,  0.3  , -0.287, -0.221,  0.208,  0.429,  0.659,  0.046,\n",
       "         0.012],\n",
       "       [-0.343, -0.077, -0.022,  0.608, -0.477, -0.268,  0.357,  0.268,\n",
       "         0.082],\n",
       "       [-0.289, -0.63 ,  0.537, -0.344, -0.046,  0.15 ,  0.163,  0.177,\n",
       "        -0.175]])"
      ]
     },
     "execution_count": 34,
     "metadata": {},
     "output_type": "execute_result"
    }
   ],
   "source": [
    "vectors"
   ]
  }
 ],
 "metadata": {
  "kernelspec": {
   "display_name": "optimizacion",
   "language": "python",
   "name": "optimizacion"
  },
  "language_info": {
   "codemirror_mode": {
    "name": "ipython",
    "version": 3
   },
   "file_extension": ".py",
   "mimetype": "text/x-python",
   "name": "python",
   "nbconvert_exporter": "python",
   "pygments_lexer": "ipython3",
   "version": "3.8.0"
  }
 },
 "nbformat": 4,
 "nbformat_minor": 4
}
