{
 "cells": [
  {
   "cell_type": "code",
   "execution_count": 1,
   "metadata": {},
   "outputs": [],
   "source": [
    "import math\n",
    "import numpy as np\n",
    "import pandas as pd\n",
    "from sklearn.preprocessing import StandardScaler"
   ]
  },
  {
   "cell_type": "code",
   "execution_count": 2,
   "metadata": {},
   "outputs": [],
   "source": [
    "np.set_printoptions(precision=3, suppress=True)"
   ]
  },
  {
   "cell_type": "code",
   "execution_count": 3,
   "metadata": {},
   "outputs": [],
   "source": [
    "marg_90 = pd.read_csv(\"Marginacion_1990.csv\")"
   ]
  },
  {
   "cell_type": "code",
   "execution_count": 4,
   "metadata": {},
   "outputs": [
    {
     "data": {
      "text/plain": [
       "(9, 9)"
      ]
     },
     "execution_count": 4,
     "metadata": {},
     "output_type": "execute_result"
    }
   ],
   "source": [
    "variables = marg_90[['ANALF','SPRIM','OVSDE','OVSEE','OVSAE','VHAC','OVPT','PL.5000','PO2SM']]\n",
    "#variables_np = variables.to_numpy()\n",
    "var_cov_std = StandardScaler().fit_transform(variables)\n",
    "features = var_cov_std.T\n",
    "var_cov = np.cov(features)\n",
    "var_cov.shape"
   ]
  },
  {
   "cell_type": "code",
   "execution_count": 5,
   "metadata": {},
   "outputs": [],
   "source": [
    "def sign(x):\n",
    "    \"\"\"\n",
    "    Helper function for computing sign of real number x.\n",
    "    \"\"\"\n",
    "    if x >=0:\n",
    "        return 1\n",
    "    else:\n",
    "        return -1"
   ]
  },
  {
   "cell_type": "code",
   "execution_count": 6,
   "metadata": {},
   "outputs": [],
   "source": [
    "def compute_cos_sin_Jacobi_rotation(Ak, idx1, idx2):\n",
    "    \"\"\"\n",
    "    Helper function for computing entries of Jacobi rotation.\n",
    "    Args:\n",
    "        Ak (numpy ndarray): Matrix of iteration k in Jacobi rotation method.\n",
    "        idx1 (int): index for rows in Jacobi rotation matrix.\n",
    "        idx2 (int): index for columns in Jacobi rotation matrix.\n",
    "    Returns:\n",
    "        c (float): value of cos of theta for Jacobi rotation matrix.\n",
    "        s (float): value of sin of theta for Jacobi rotation matrix.\n",
    "    \"\"\"\n",
    "    if np.abs(Ak[idx1,idx2]) >= np.finfo(float).eps:\n",
    "        tau = (Ak[idx2, idx2] - Ak[idx1, idx1])/(2*Ak[idx1, idx2])\n",
    "        t_star = sign(tau)/(np.abs(tau) + np.sqrt(1+tau**2))\n",
    "        c = 1/np.sqrt(1+t_star**2)\n",
    "        s = c*t_star\n",
    "    else: #no rotation is performed\n",
    "        c = 1\n",
    "        s = 0\n",
    "    return (c,s)"
   ]
  },
  {
   "cell_type": "code",
   "execution_count": 7,
   "metadata": {},
   "outputs": [],
   "source": [
    "def off(Ak):\n",
    "    \"\"\"\n",
    "    Frobenius norm without the main diagonal\n",
    "    Args:\n",
    "        Ak (numpy ndarray): Matrix for getting the Frobenius norm.\n",
    "    Returns:\n",
    "        s: The Frobenius norm without the sum of the main diagonal indices.\n",
    "    \"\"\"\n",
    "    n = int(np.sqrt(np.size(var_cov)))\n",
    "    s = 0\n",
    "    for i in range(n):\n",
    "        for j in range(n):\n",
    "            if j != i:\n",
    "                s1 = math.sqrt(Ak[i,j]**2)\n",
    "                s = s + s1\n",
    "            else:\n",
    "                pass\n",
    "    return s"
   ]
  },
  {
   "cell_type": "code",
   "execution_count": 9,
   "metadata": {},
   "outputs": [],
   "source": [
    "def compute_Jacobi_rotation(Ak, idx1, idx2):\n",
    "    \"\"\"\n",
    "    Compute Jacobi rotation matrix.\n",
    "    Args:\n",
    "        Ak (numpy ndarray): Matrix of iteration k in Jacobi rotation method.\n",
    "        idx1 (int): index for rows in Jacobi rotation matrix.\n",
    "        idx2 (int): index for columns in Jacobi rotation matrix.\n",
    "    Returns:\n",
    "        J (numpy ndarray): Jacobi rotation matrix.\n",
    "    \"\"\"\n",
    "    c,s = compute_cos_sin_Jacobi_rotation(Ak, idx1, idx2)\n",
    "    m,n = Ak.shape\n",
    "    J = np.eye(m)\n",
    "    J[idx1, idx1] = J[idx2, idx2] = c\n",
    "    J[idx1, idx2] = s\n",
    "    J[idx2, idx1] = -s\n",
    "    return J"
   ]
  },
  {
   "cell_type": "code",
   "execution_count": 45,
   "metadata": {},
   "outputs": [],
   "source": [
    "def compute_Jacobi_eigenvectors(A, tol, max_sweeps):\n",
    "    \"\"\"\n",
    "    Compute Jacobi rotation matrix.\n",
    "    Args:\n",
    "        Ak (numpy ndarray): Matrix of iteration k in Jacobi rotation method.\n",
    "        idx1 (int): index for rows in Jacobi rotation matrix.\n",
    "        idx2 (int): index for columns in Jacobi rotation matrix.\n",
    "    Returns:\n",
    "        Q (numpy ndarray): Matrix that contain A's eigenvectors.\n",
    "    \"\"\"\n",
    "    A_k = A.copy()\n",
    "    m,n = A_k.shape\n",
    "    Q = np.eye(m)\n",
    "    sweeps = 0\n",
    "    while (off(A_k) > tol*np.linalg.norm(A_k) and sweeps < max_sweeps + 1):\n",
    "        sweeps += 1\n",
    "        for i in range(A_k.shape[0]):\n",
    "            j = i + 1\n",
    "            for m in range(A_k.shape[0]-i-1):\n",
    "                J = compute_Jacobi_rotation(A_k, i, j)\n",
    "                A_k = J.T@A_k@J\n",
    "                Q = Q @ J\n",
    "                j += 1\n",
    "                \n",
    "    return Q    "
   ]
  },
  {
   "cell_type": "code",
   "execution_count": 46,
   "metadata": {},
   "outputs": [
    {
     "data": {
      "text/plain": [
       "array([[ 0.356, -0.674, -0.106,  0.071, -0.343,  0.266,  0.26 , -0.299,\n",
       "        -0.241],\n",
       "       [ 0.355,  0.342, -0.782, -0.006, -0.145, -0.265, -0.127, -0.153,\n",
       "        -0.124],\n",
       "       [ 0.336,  0.332,  0.495, -0.368, -0.222, -0.365,  0.311, -0.327,\n",
       "        -0.102],\n",
       "       [ 0.317,  0.1  ,  0.093,  0.509, -0.395, -0.099,  0.237,  0.466,\n",
       "         0.429],\n",
       "       [ 0.329,  0.067,  0.21 ,  0.293,  0.15 ,  0.19 , -0.515, -0.53 ,\n",
       "         0.391],\n",
       "       [ 0.33 ,  0.179,  0.207, -0.151, -0.212,  0.377, -0.47 ,  0.421,\n",
       "        -0.457],\n",
       "       [ 0.34 ,  0.208,  0.012,  0.3  ,  0.659,  0.221,  0.429,  0.046,\n",
       "        -0.287],\n",
       "       [ 0.343, -0.477,  0.082, -0.077,  0.357, -0.608, -0.268,  0.268,\n",
       "        -0.022],\n",
       "       [ 0.289, -0.046, -0.175, -0.63 ,  0.163,  0.344,  0.15 ,  0.177,\n",
       "         0.537]])"
      ]
     },
     "execution_count": 46,
     "metadata": {},
     "output_type": "execute_result"
    }
   ],
   "source": [
    "compute_Jacobi_eigenvectors(var_cov,1e-8,6)"
   ]
  },
  {
   "cell_type": "code",
   "execution_count": 47,
   "metadata": {},
   "outputs": [
    {
     "data": {
      "text/plain": [
       "array([[-0.356,  0.071, -0.241, -0.266, -0.674,  0.26 , -0.343, -0.299,\n",
       "        -0.106],\n",
       "       [-0.355, -0.006, -0.124,  0.265,  0.342, -0.127, -0.145, -0.153,\n",
       "        -0.782],\n",
       "       [-0.336, -0.368, -0.102,  0.365,  0.332,  0.311, -0.222, -0.327,\n",
       "         0.495],\n",
       "       [-0.317,  0.509,  0.429,  0.099,  0.1  ,  0.237, -0.395,  0.466,\n",
       "         0.093],\n",
       "       [-0.329,  0.293,  0.391, -0.19 ,  0.067, -0.515,  0.15 , -0.53 ,\n",
       "         0.21 ],\n",
       "       [-0.33 , -0.151, -0.457, -0.377,  0.179, -0.47 , -0.212,  0.421,\n",
       "         0.207],\n",
       "       [-0.34 ,  0.3  , -0.287, -0.221,  0.208,  0.429,  0.659,  0.046,\n",
       "         0.012],\n",
       "       [-0.343, -0.077, -0.022,  0.608, -0.477, -0.268,  0.357,  0.268,\n",
       "         0.082],\n",
       "       [-0.289, -0.63 ,  0.537, -0.344, -0.046,  0.15 ,  0.163,  0.177,\n",
       "        -0.175]])"
      ]
     },
     "execution_count": 47,
     "metadata": {},
     "output_type": "execute_result"
    }
   ],
   "source": [
    "vec"
   ]
  },
  {
   "cell_type": "code",
   "execution_count": 38,
   "metadata": {},
   "outputs": [],
   "source": [
    "def compute_Jacobi_eigenvalues(A, tol, max_sweeps):\n",
    "    \"\"\"\n",
    "    Compute Jacobi rotation matrix.\n",
    "    Args:\n",
    "        Ak (numpy ndarray): Matrix of iteration k in Jacobi rotation method.\n",
    "        idx1 (int): index for rows in Jacobi rotation matrix.\n",
    "        idx2 (int): index for columns in Jacobi rotation matrix.\n",
    "    Returns:\n",
    "        Q (numpy ndarray): Matrix that contain A's eigenvectors.\n",
    "    \"\"\"\n",
    "    A_k = A.copy()\n",
    "    m,n = A_k.shape\n",
    "    Q = np.eye(m)\n",
    "    sweeps = 0\n",
    "    while (off(A_k) > tol*np.linalg.norm(A_k) and sweeps < max_sweeps + 1):\n",
    "        sweeps += 1\n",
    "        for i in range(A_k.shape[0]):\n",
    "            j = i + 1\n",
    "            for m in range(A_k.shape[0]-i-1):\n",
    "                J = compute_Jacobi_rotation(A_k, i, j)\n",
    "                A_k = J.T@A_k@J\n",
    "                j += 1\n",
    "                \n",
    "    return A_k    "
   ]
  },
  {
   "cell_type": "code",
   "execution_count": 39,
   "metadata": {},
   "outputs": [
    {
     "data": {
      "text/plain": [
       "array([[ 7.3  , -0.   ,  0.   , -0.   ,  0.   ,  0.   ,  0.   , -0.   ,\n",
       "         0.   ],\n",
       "       [ 0.   ,  0.036,  0.   , -0.   , -0.   ,  0.   , -0.   ,  0.   ,\n",
       "         0.   ],\n",
       "       [-0.   ,  0.   ,  0.118, -0.   , -0.   ,  0.   ,  0.   , -0.   ,\n",
       "         0.   ],\n",
       "       [-0.   , -0.   , -0.   ,  0.611,  0.   , -0.   ,  0.   , -0.   ,\n",
       "         0.   ],\n",
       "       [-0.   , -0.   ,  0.   , -0.   ,  0.09 , -0.   ,  0.   , -0.   ,\n",
       "         0.   ],\n",
       "       [ 0.   ,  0.   , -0.   ,  0.   , -0.   ,  0.325,  0.   ,  0.   ,\n",
       "         0.   ],\n",
       "       [ 0.   ,  0.   ,  0.   , -0.   ,  0.   , -0.   ,  0.233,  0.   ,\n",
       "         0.   ],\n",
       "       [ 0.   , -0.   ,  0.   , -0.   , -0.   ,  0.   , -0.   ,  0.145,\n",
       "        -0.   ],\n",
       "       [ 0.   , -0.   ,  0.   , -0.   ,  0.   ,  0.   , -0.   ,  0.   ,\n",
       "         0.431]])"
      ]
     },
     "execution_count": 39,
     "metadata": {},
     "output_type": "execute_result"
    }
   ],
   "source": [
    "compute_Jacobi_eigenvalues(var_cov, 1e-8, 6)"
   ]
  },
  {
   "cell_type": "code",
   "execution_count": 40,
   "metadata": {},
   "outputs": [],
   "source": [
    "val, vec = np.linalg.eig(var_cov)"
   ]
  },
  {
   "cell_type": "code",
   "execution_count": 41,
   "metadata": {},
   "outputs": [
    {
     "data": {
      "text/plain": [
       "array([7.3  , 0.611, 0.431, 0.325, 0.036, 0.233, 0.09 , 0.145, 0.118])"
      ]
     },
     "execution_count": 41,
     "metadata": {},
     "output_type": "execute_result"
    }
   ],
   "source": [
    "val"
   ]
  }
 ],
 "metadata": {
  "kernelspec": {
   "display_name": "optimizacion",
   "language": "python",
   "name": "optimizacion"
  },
  "language_info": {
   "codemirror_mode": {
    "name": "ipython",
    "version": 3
   },
   "file_extension": ".py",
   "mimetype": "text/x-python",
   "name": "python",
   "nbconvert_exporter": "python",
   "pygments_lexer": "ipython3",
   "version": "3.8.0"
  }
 },
 "nbformat": 4,
 "nbformat_minor": 4
}
