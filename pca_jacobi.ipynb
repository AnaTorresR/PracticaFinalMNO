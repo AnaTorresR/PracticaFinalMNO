{
 "cells": [
  {
   "cell_type": "code",
   "execution_count": 2,
   "metadata": {},
   "outputs": [],
   "source": [
    "import numpy as np\n",
    "import pandas as np"
   ]
  },
  {
   "cell_type": "code",
   "execution_count": 12,
   "metadata": {},
   "outputs": [
    {
     "data": {
      "text/html": [
       "<div>\n",
       "<style scoped>\n",
       "    .dataframe tbody tr th:only-of-type {\n",
       "        vertical-align: middle;\n",
       "    }\n",
       "\n",
       "    .dataframe tbody tr th {\n",
       "        vertical-align: top;\n",
       "    }\n",
       "\n",
       "    .dataframe thead th {\n",
       "        text-align: right;\n",
       "    }\n",
       "</style>\n",
       "<table border=\"1\" class=\"dataframe\">\n",
       "  <thead>\n",
       "    <tr style=\"text-align: right;\">\n",
       "      <th></th>\n",
       "      <th>CVE_ENT</th>\n",
       "      <th>NOM_ENT</th>\n",
       "      <th>POB_TOT</th>\n",
       "      <th>ANALF</th>\n",
       "      <th>SPRIM</th>\n",
       "      <th>OVSDE</th>\n",
       "      <th>OVSEE</th>\n",
       "      <th>OVSAE</th>\n",
       "      <th>VHAC</th>\n",
       "      <th>OVPT</th>\n",
       "      <th>PL.5000</th>\n",
       "      <th>PO2SM</th>\n",
       "      <th>IM</th>\n",
       "      <th>GM</th>\n",
       "      <th>LUGAR</th>\n",
       "      <th>A.O</th>\n",
       "    </tr>\n",
       "  </thead>\n",
       "  <tbody>\n",
       "    <tr>\n",
       "      <th>0</th>\n",
       "      <td>1</td>\n",
       "      <td>Aguascalientes</td>\n",
       "      <td>719659</td>\n",
       "      <td>7.06</td>\n",
       "      <td>33.85</td>\n",
       "      <td>10.88</td>\n",
       "      <td>4.97</td>\n",
       "      <td>4.18</td>\n",
       "      <td>51.03</td>\n",
       "      <td>7.45</td>\n",
       "      <td>26.97</td>\n",
       "      <td>62.53</td>\n",
       "      <td>-0.89</td>\n",
       "      <td>Bajo</td>\n",
       "      <td>27</td>\n",
       "      <td>1990</td>\n",
       "    </tr>\n",
       "    <tr>\n",
       "      <th>1</th>\n",
       "      <td>2</td>\n",
       "      <td>Baja California</td>\n",
       "      <td>1660855</td>\n",
       "      <td>4.68</td>\n",
       "      <td>24.01</td>\n",
       "      <td>4.89</td>\n",
       "      <td>10.49</td>\n",
       "      <td>19.59</td>\n",
       "      <td>45.43</td>\n",
       "      <td>8.13</td>\n",
       "      <td>11.95</td>\n",
       "      <td>39.96</td>\n",
       "      <td>-1.34</td>\n",
       "      <td>Muy bajo</td>\n",
       "      <td>30</td>\n",
       "      <td>1990</td>\n",
       "    </tr>\n",
       "    <tr>\n",
       "      <th>2</th>\n",
       "      <td>3</td>\n",
       "      <td>Baja California Sur</td>\n",
       "      <td>317764</td>\n",
       "      <td>5.39</td>\n",
       "      <td>27.77</td>\n",
       "      <td>7.03</td>\n",
       "      <td>11.10</td>\n",
       "      <td>10.17</td>\n",
       "      <td>48.60</td>\n",
       "      <td>13.99</td>\n",
       "      <td>25.60</td>\n",
       "      <td>54.06</td>\n",
       "      <td>-0.97</td>\n",
       "      <td>Bajo</td>\n",
       "      <td>28</td>\n",
       "      <td>1990</td>\n",
       "    </tr>\n",
       "    <tr>\n",
       "      <th>3</th>\n",
       "      <td>4</td>\n",
       "      <td>Campeche</td>\n",
       "      <td>535185</td>\n",
       "      <td>15.40</td>\n",
       "      <td>44.82</td>\n",
       "      <td>24.80</td>\n",
       "      <td>15.02</td>\n",
       "      <td>29.52</td>\n",
       "      <td>65.03</td>\n",
       "      <td>24.16</td>\n",
       "      <td>36.21</td>\n",
       "      <td>68.07</td>\n",
       "      <td>0.48</td>\n",
       "      <td>Alto</td>\n",
       "      <td>10</td>\n",
       "      <td>1990</td>\n",
       "    </tr>\n",
       "    <tr>\n",
       "      <th>4</th>\n",
       "      <td>5</td>\n",
       "      <td>Coahuila de Zaragoza</td>\n",
       "      <td>1972340</td>\n",
       "      <td>5.48</td>\n",
       "      <td>28.18</td>\n",
       "      <td>10.81</td>\n",
       "      <td>5.24</td>\n",
       "      <td>7.76</td>\n",
       "      <td>50.00</td>\n",
       "      <td>8.48</td>\n",
       "      <td>17.13</td>\n",
       "      <td>60.89</td>\n",
       "      <td>-1.05</td>\n",
       "      <td>Bajo</td>\n",
       "      <td>29</td>\n",
       "      <td>1990</td>\n",
       "    </tr>\n",
       "  </tbody>\n",
       "</table>\n",
       "</div>"
      ],
      "text/plain": [
       "   CVE_ENT               NOM_ENT  POB_TOT  ANALF  SPRIM  OVSDE  OVSEE  OVSAE  \\\n",
       "0        1        Aguascalientes   719659   7.06  33.85  10.88   4.97   4.18   \n",
       "1        2       Baja California  1660855   4.68  24.01   4.89  10.49  19.59   \n",
       "2        3   Baja California Sur   317764   5.39  27.77   7.03  11.10  10.17   \n",
       "3        4              Campeche   535185  15.40  44.82  24.80  15.02  29.52   \n",
       "4        5  Coahuila de Zaragoza  1972340   5.48  28.18  10.81   5.24   7.76   \n",
       "\n",
       "    VHAC   OVPT  PL.5000  PO2SM    IM        GM  LUGAR   A.O  \n",
       "0  51.03   7.45    26.97  62.53 -0.89      Bajo     27  1990  \n",
       "1  45.43   8.13    11.95  39.96 -1.34  Muy bajo     30  1990  \n",
       "2  48.60  13.99    25.60  54.06 -0.97      Bajo     28  1990  \n",
       "3  65.03  24.16    36.21  68.07  0.48      Alto     10  1990  \n",
       "4  50.00   8.48    17.13  60.89 -1.05      Bajo     29  1990  "
      ]
     },
     "execution_count": 12,
     "metadata": {},
     "output_type": "execute_result"
    }
   ],
   "source": [
    "marg_90.head()"
   ]
  },
  {
   "cell_type": "code",
   "execution_count": 16,
   "metadata": {},
   "outputs": [],
   "source": [
    "#marg_90 = np.read_csv(\"Marginacion_1990.csv\")\n",
    "marg_90_var = marg_90[['ANALF','SPRIM','OVSDE','OVSEE','OVSAE','VHAC','OVPT','PL.5000','PO2SM']]"
   ]
  },
  {
   "cell_type": "code",
   "execution_count": 20,
   "metadata": {},
   "outputs": [
    {
     "data": {
      "text/plain": [
       "pandas.core.series.Series"
      ]
     },
     "execution_count": 20,
     "metadata": {},
     "output_type": "execute_result"
    }
   ],
   "source": [
    "type(marg_90_var['ANALF'])"
   ]
  }
 ],
 "metadata": {
  "kernelspec": {
   "display_name": "optimizacion",
   "language": "python",
   "name": "optimizacion"
  },
  "language_info": {
   "codemirror_mode": {
    "name": "ipython",
    "version": 3
   },
   "file_extension": ".py",
   "mimetype": "text/x-python",
   "name": "python",
   "nbconvert_exporter": "python",
   "pygments_lexer": "ipython3",
   "version": "3.8.0"
  }
 },
 "nbformat": 4,
 "nbformat_minor": 4
}
