{
 "cells": [
  {
   "cell_type": "code",
   "execution_count": 2,
   "metadata": {},
   "outputs": [],
   "source": [
    "import pandas as pd \n",
    "import seaborn as sns \n",
    "import numpy as np\n",
    "import matplotlib.pyplot as plt "
   ]
  },
  {
   "cell_type": "code",
   "execution_count": 3,
   "metadata": {},
   "outputs": [],
   "source": [
    "# Función number_formater\n",
    "\n",
    "from matplotlib.ticker import FuncFormatter\n",
    "\n",
    "def number_formatter(number, pos = None):\n",
    "    \"\"\"Convert a number into a human readable format.\"\"\"\n",
    "    magnitude = 0\n",
    "    while abs(number) >= 1000:\n",
    "        magnitude += 1\n",
    "        number /= 1000.0\n",
    "    return '%.1f%s' % (number, ['', 'K', 'M', 'B', 'T', 'Q'][magnitude])\n"
   ]
  },
  {
   "cell_type": "code",
   "execution_count": 4,
   "metadata": {},
   "outputs": [],
   "source": [
    "def int_formatter(number, pos=None):\n",
    "    return int(number)"
   ]
  },
  {
   "cell_type": "code",
   "execution_count": 5,
   "metadata": {},
   "outputs": [],
   "source": [
    "# Función get_repeated_values\n",
    "\n",
    "def get_repeated_values(df, col, top):\n",
    "    top_5 = df.groupby([col])[col]\\\n",
    "                    .count()\\\n",
    "                    .sort_values(ascending = False)\\\n",
    "                    .head(3)\n",
    "    indexes_top_5 = top_5.index\n",
    "    \n",
    "    if ((top == 1) and (len(indexes_top_5) > 0)):\n",
    "        return indexes_top_5[0]\n",
    "    elif ((top == 2) and (len(indexes_top_5) > 1)):\n",
    "        return indexes_top_5[1]\n",
    "    elif ((top == 3) and (len(indexes_top_5) > 2)):\n",
    "        return indexes_top_5[2]\n",
    "    else: \n",
    "        return 'undefined'"
   ]
  },
  {
   "cell_type": "code",
   "execution_count": 5,
   "metadata": {},
   "outputs": [],
   "source": [
    "# Función categoric_profiling\n",
    "\n",
    "def categoric_profiling(df_o, col):\n",
    "    \"\"\"\n",
    "    Profiling for categoric columns. \n",
    "    \n",
    "    :param: column to analyze\n",
    "    :return: dictionary\n",
    "    \"\"\"\n",
    "    profiling = {}\n",
    "    \n",
    "    # eliminate missing values\n",
    "    df = df_o.copy()\n",
    "    #df = df[df[col].notna()]\n",
    "\n",
    "    profiling.update({'mode': df[col].mode().values,\n",
    "                     'uniques': df[col].nunique(),\n",
    "                     'missings': df[col].isnull().sum(),\n",
    "                     'top1_repeated': get_repeated_values(df, col, 1),\n",
    "                     'top2_repeated': get_repeated_values(df, col, 2),\n",
    "                     'top3_repeated': get_repeated_values(df, col, 3)})\n",
    "    \n",
    "    return profiling"
   ]
  },
  {
   "cell_type": "code",
   "execution_count": 6,
   "metadata": {},
   "outputs": [],
   "source": [
    "def numeric_profiling(df_o, col):\n",
    "    \"\"\"\n",
    "    Profiling for numeric columns. \n",
    "    \n",
    "    :param: column to analyze\n",
    "    :return: dictionary\n",
    "    \"\"\"\n",
    "    profiling = {}\n",
    "    \n",
    "    # eliminate missing values\n",
    "    df = df_o.copy()\n",
    "    df = df[df[col].notna()]\n",
    "    df[col] = df[col].astype(float)\n",
    "\n",
    "    profiling.update({'max': df[col].max(),\n",
    "                     'min': df[col].min(),\n",
    "                     'mean': df[col].mean(),\n",
    "                     'stdv': df[col].std(),\n",
    "                     '25%': df[col].quantile(.25),\n",
    "                     'median': df[col].median(),\n",
    "                     '75%': df[col].quantile(.75),\n",
    "                     'kurtosis': df[col].kurt(),\n",
    "                     'skewness': df[col].skew(),\n",
    "                     'uniques': df[col].nunique(),\n",
    "                     #'prop_missings': df[col].isna().sum()/df.shape[0]*100,\n",
    "                     'top1_repeated': get_repeated_values(df, col, 1),\n",
    "                     'top2_repeated': get_repeated_values(df, col, 2),\n",
    "                     'top3_repeated': get_repeated_values(df, col, 3)})\n",
    "    \n",
    "    \n",
    "    return profiling"
   ]
  },
  {
   "cell_type": "code",
   "execution_count": 7,
   "metadata": {},
   "outputs": [],
   "source": [
    "def barplots(x,y,df,title, order, xlim, x_label, y_label):\n",
    "    a = sns.barplot(x=x,y=y, data=df, order = df[order])\n",
    "    a.xaxis.set_major_formatter(FuncFormatter(number_formatter))\n",
    "    a.set_xlabel(x_label)\n",
    "    a.set_ylabel(y_label)\n",
    "    a.set_xlim(0,xlim)\n",
    "    a.set_title(title)"
   ]
  },
  {
   "cell_type": "code",
   "execution_count": 8,
   "metadata": {},
   "outputs": [],
   "source": [
    "def facet_grids(x,y,data,col):\n",
    "    a = sns.FacetGrid(data=data, col=col, col_wrap=4, sharex=False, sharey=False,\n",
    "                 height=4.5, aspect=1.5)\n",
    "    a.map_dataframe(sns.barplot, x=x, y=y)\n",
    "    for ax in a.axes.flat:\n",
    "        for label in ax.get_xticklabels():\n",
    "            label.set_size(7)\n",
    "            label.set_rotation(90)\n",
    "        ax.yaxis.set_major_formatter(FuncFormatter(number_formatter))"
   ]
  },
  {
   "cell_type": "markdown",
   "metadata": {},
   "source": [
    "# Índice de marginación "
   ]
  },
  {
   "cell_type": "code",
   "execution_count": null,
   "metadata": {},
   "outputs": [],
   "source": []
  },
  {
   "cell_type": "code",
   "execution_count": null,
   "metadata": {},
   "outputs": [],
   "source": []
  },
  {
   "cell_type": "code",
   "execution_count": null,
   "metadata": {},
   "outputs": [],
   "source": []
  }
 ],
 "metadata": {
  "kernelspec": {
   "display_name": "Python 3",
   "language": "python",
   "name": "python3"
  },
  "language_info": {
   "codemirror_mode": {
    "name": "ipython",
    "version": 3
   },
   "file_extension": ".py",
   "mimetype": "text/x-python",
   "name": "python",
   "nbconvert_exporter": "python",
   "pygments_lexer": "ipython3",
   "version": "3.8.0"
  }
 },
 "nbformat": 4,
 "nbformat_minor": 4
}
